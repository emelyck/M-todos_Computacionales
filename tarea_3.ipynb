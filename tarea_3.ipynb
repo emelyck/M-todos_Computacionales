{
  "nbformat": 4,
  "nbformat_minor": 0,
  "metadata": {
    "colab": {
      "provenance": [],
      "authorship_tag": "ABX9TyPV2YC0Fo/izxf/UAKP1t45",
      "include_colab_link": true
    },
    "kernelspec": {
      "name": "python3",
      "display_name": "Python 3"
    },
    "language_info": {
      "name": "python"
    }
  },
  "cells": [
    {
      "cell_type": "markdown",
      "metadata": {
        "id": "view-in-github",
        "colab_type": "text"
      },
      "source": [
        "<a href=\"https://colab.research.google.com/github/emelyck/Metodos_DynnaRangel_SamuelRomero/blob/main/tarea_3.ipynb\" target=\"_parent\"><img src=\"https://colab.research.google.com/assets/colab-badge.svg\" alt=\"Open In Colab\"/></a>"
      ]
    },
    {
      "cell_type": "code",
      "execution_count": 4,
      "metadata": {
        "colab": {
          "base_uri": "https://localhost:8080/"
        },
        "id": "ABMnVHR51wEr",
        "outputId": "d14268b2-7912-4ae9-c84e-32f794f65527"
      },
      "outputs": [
        {
          "output_type": "stream",
          "name": "stdout",
          "text": [
            "2.0938469983337344\n"
          ]
        }
      ],
      "source": [
        "#punto 7\n",
        "import numpy as np\n",
        "R = 1\n",
        "n = 100\n",
        "h = 2 * R / n\n",
        "\n",
        "def semiesfera(x, y, R):\n",
        "    formula = R**2 - x**2 - y**2\n",
        "    if formula >= 0:\n",
        "        return np.sqrt(formula)\n",
        "    else:\n",
        "        return 0\n",
        "parametro_x = np.linspace(-R, R, n + 1)\n",
        "parametro_y = np.linspace(-R, R, n + 1)\n",
        "\n",
        "volumen = 0\n",
        "for o in range(n):\n",
        "    for u in range(n):\n",
        "        xo, yu = parametro_x[o], parametro_y[u]\n",
        "        xo1, yu1 = parametro_x[o+1], parametro_y[u+1]\n",
        "        f1 = semiesfera(xo, yu, R)\n",
        "        f2 = semiesfera(xo1, yu, R)\n",
        "        f3 = semiesfera(xo, yu1, R)\n",
        "        f4 = semiesfera(xo1, yu1, R)\n",
        "\n",
        "        area = h * h\n",
        "        promedio = (f1 + f2 + f3 + f4) / 4\n",
        "        volumen += promedio * area\n",
        "\n",
        "print(volumen)\n",
        "\n",
        "\n"
      ]
    },
    {
      "cell_type": "code",
      "source": [
        "#punto 15\n",
        "import numpy as np\n",
        "\n",
        "# Función para calcular los polinomios de Legendre\n",
        "def lege(n, x):\n",
        "    if n == 0:\n",
        "        return np.ones_like(x)\n",
        "    elif n == 1:\n",
        "        return x\n",
        "    else:\n",
        "        P = np.ones_like(x)\n",
        "        P_1 = x\n",
        "        for o in range(2, n + 1):\n",
        "            Ps = ((2 * o - 1) * x * P_1 - (o - 1) * P) / o\n",
        "            P = P_1\n",
        "            P_1 = Ps\n",
        "        return Ps\n",
        "def derivada_legendre(n, x):\n",
        "    Ps = lege(n, x)\n",
        "    Ps_1_menos = lege(n - 1, x)\n",
        "    return n * (x * Ps - Ps_1_menos) / (x**2 - 1)\n",
        "\n",
        "def ceros(n, tol=1e-14):\n",
        "    x = np.cos(np.pi * (np.arange(1, n + 1) - 0.25) / (n + 0.5))\n",
        "    for _ in range(100):\n",
        "        Ps = lege(n, x)\n",
        "        Ps_p = derivada_legendre(n, x)\n",
        "        diferencia_x = -Ps / Ps_p\n",
        "        x += diferencia_x\n",
        "        if np.max(np.abs(diferencia_x)) < tol:\n",
        "            break\n",
        "    return x\n",
        "\n",
        "def pesos(n, x):\n",
        "    Ps_p = derivada_legendre(n, x)\n",
        "    return 2 / ((1 - x**2) * Ps_p**2)\n",
        "n = 20\n",
        "xk = ceros(n)\n",
        "wk = pesos(n, xk)\n",
        "\n",
        "print(\"Ceros:\")\n",
        "print(xk)\n",
        "print(\"\\nPesos:\")\n",
        "print(wk)\n"
      ],
      "metadata": {
        "colab": {
          "base_uri": "https://localhost:8080/"
        },
        "id": "AyrG53qFHfmL",
        "outputId": "28b291d2-c72b-4c5e-be47-120c7779f099"
      },
      "execution_count": 6,
      "outputs": [
        {
          "output_type": "stream",
          "name": "stdout",
          "text": [
            "Ceros:\n",
            "[ 0.9931286   0.96397193  0.91223443  0.83911697  0.74633191  0.63605368\n",
            "  0.510867    0.37370609  0.22778585  0.07652652 -0.07652652 -0.22778585\n",
            " -0.37370609 -0.510867   -0.63605368 -0.74633191 -0.83911697 -0.91223443\n",
            " -0.96397193 -0.9931286 ]\n",
            "\n",
            "Pesos:\n",
            "[0.01761401 0.04060143 0.06267205 0.08327674 0.10193012 0.11819453\n",
            " 0.13168864 0.14209611 0.14917299 0.15275339 0.15275339 0.14917299\n",
            " 0.14209611 0.13168864 0.11819453 0.10193012 0.08327674 0.06267205\n",
            " 0.04060143 0.01761401]\n"
          ]
        }
      ]
    },
    {
      "cell_type": "code",
      "source": [
        "#punto 16\n",
        "import numpy as np\n",
        "\n",
        "def inte(x):\n",
        "    return 1 / (x**4 + 1)\n",
        "def funcion(f, a, b, n):\n",
        "    h = (b - a) / n\n",
        "    integral = 0.5 * (f(a) + f(b))\n",
        "    for o in range(1, n):\n",
        "        integral += f(a + o * h)\n",
        "    return integral * h\n",
        "\n",
        "a_0, b_0 = 1, 100\n",
        "n_0 = 1000\n",
        "integral_0 = funcion(inte, a_0, b_0, n_0)\n",
        "n_00 = 1000\n",
        "a_00, b_00 = 0, 1\n",
        "integral_00 = funcion(inte, a_00, b_00, n_00)\n",
        "resultado = integral_0 + integral_00\n",
        "print(f\"integral: {resultado}\")"
      ],
      "metadata": {
        "colab": {
          "base_uri": "https://localhost:8080/"
        },
        "id": "oBnQXmEXMCPO",
        "outputId": "f38eac12-7a0e-467f-8349-852cd1abc415"
      },
      "execution_count": 7,
      "outputs": [
        {
          "output_type": "stream",
          "name": "stdout",
          "text": [
            "integral: 1.1115378682487933\n"
          ]
        }
      ]
    },
    {
      "cell_type": "code",
      "source": [
        "#punto 17\n",
        "import numpy as np\n",
        "import matplotlib.pyplot as plt\n",
        "\n",
        "def polinomio(n, x):\n",
        "    if n == 0:\n",
        "        return 1\n",
        "    elif n == 1:\n",
        "        return 1 - x\n",
        "    else:\n",
        "        jk = 1\n",
        "        kj = 1 - x\n",
        "        for o in range(2, n + 1):\n",
        "            re = ((2 * o - 1 - x) * kj - (o - 1) * jk) / o\n",
        "            jk = kj\n",
        "            kj = re\n",
        "        return kj\n",
        "def derivada(n, x):\n",
        "    h = 1e-6\n",
        "    return (polinomio(n, x + h) - polinomio(n, x - h)) / (2 * h)\n",
        "def calc(n, x0, tol=1e-14, max_iter=100):\n",
        "    x = x0\n",
        "    for i in range(max_iter):\n",
        "        fx = polinomio(n, x)\n",
        "        dfx = derivada(n, x)\n",
        "        if abs(fx) < tol:\n",
        "            return x\n",
        "        x = x - fx / dfx\n",
        "    return x\n",
        "def buscar(n):\n",
        "    guarda = []\n",
        "    for o in range(1, n + 1):\n",
        "        x0 = (2 * o - 1) / (2 * n)\n",
        "        root = calc(n, x0)\n",
        "        guarda.append(root)\n",
        "    return np.array(guarda)\n",
        "def pesos(n, guarda):\n",
        "    w = []\n",
        "    for root in guarda:\n",
        "        L_n_plus_1 = polinomio(n + 1, root)\n",
        "        weight = root / (n + 1)**2 / (L_n_plus_1**2)\n",
        "        w.append(weight)\n",
        "    return np.array(w)\n",
        "def integracion(x):\n",
        "    return (x**3) / (np.exp(x) - 1)\n",
        "def gauss(n):\n",
        "    guarda = buscar(n)\n",
        "    w = pesos(n, guarda)\n",
        "    integral = sum(w * integracion(guarda))\n",
        "    return integral\n",
        "valor_real = (np.pi**4) / 15\n",
        "n = 3\n",
        "resultado = gauss(n)\n",
        "print(f\"Integral: {resultado}\")\n",
        "print(f\"Valor real: {valor_real}\")\n",
        "\n",
        "valores = np.arange(2, 11)\n",
        "e = []\n",
        "\n",
        "for n in valores:\n",
        "    estamacion = gauss(n)\n",
        "    e_r = estamacion / valor_real\n",
        "    e.append(e_r)\n",
        "plt.plot(valores, e, 'o-')\n",
        "plt.grid(True)\n",
        "plt.legend()\n",
        "plt.show()"
      ],
      "metadata": {
        "colab": {
          "base_uri": "https://localhost:8080/",
          "height": 482
        },
        "id": "KVrrYRu0jm-T",
        "outputId": "bcbcfb9a-7833-449b-aa6a-433d7f0c70d8"
      },
      "execution_count": 8,
      "outputs": [
        {
          "output_type": "stream",
          "name": "stderr",
          "text": [
            "WARNING:matplotlib.legend:No artists with labels found to put in legend.  Note that artists whose label start with an underscore are ignored when legend() is called with no argument.\n"
          ]
        },
        {
          "output_type": "stream",
          "name": "stdout",
          "text": [
            "Integral: 0.29740996744360887\n",
            "Valor real: 6.493939402266828\n"
          ]
        },
        {
          "output_type": "display_data",
          "data": {
            "text/plain": [
              "<Figure size 640x480 with 1 Axes>"
            ],
            "image/png": "[encoded data removed]"
          },
          "metadata": {}
        }
      ]
    },
    {
      "cell_type": "code",
      "source": [
        "#punto 9 y 10\n",
        "\n",
        "import sympy as sp\n",
        "x = sp.symbols('x')\n",
        "f = sp.Function('f')(x)\n",
        "a, b = 0, 1\n",
        "h = (b - a) / n\n",
        "n = 3\n",
        "x_val = [a + o * h for o in range(n + 1)]\n",
        "inte = (3 * h / 8) * (f.subs(x, x_val[0]) + 3 * sum(f.subs(x, xi) for xi in x_val[1:-1]) + f.subs(x, x_val[-1]))\n",
        "inte_sim = sp.simplify(inte)\n",
        "puntos = [(2 * a + b) / 3, (a + 2 * b) / 3]\n",
        "deriva = sp.diff(f, x, 4)\n",
        "xi = sp.symbols('xi')\n",
        "e = - (deriva.subs(x, xi) * (b - a)**5) / (80)\n",
        "e_s = sp.simplify(e)\n",
        "print(f\"Integral: {inte_sim}\")\n",
        "print(f\"puntos: {puntos[0]}, {puntos[1]}\")\n",
        "print(f\"error: {e_s}\")"
      ],
      "metadata": {
        "colab": {
          "base_uri": "https://localhost:8080/"
        },
        "id": "iFZtDN7D2rOg",
        "outputId": "2ff565ae-7668-4022-db41-dc2eb8983d13"
      },
      "execution_count": 11,
      "outputs": [
        {
          "output_type": "stream",
          "name": "stdout",
          "text": [
            "Integral: 0.125*f(0.0) + 0.375*f(0.333333333333333) + 0.375*f(0.666666666666667) + 0.125*f(1.0)\n",
            "puntos: 0.3333333333333333, 0.6666666666666666\n",
            "error: -Derivative(f(xi), (xi, 4))/80\n"
          ]
        }
      ]
    },
    {
      "cell_type": "code",
      "source": [
        "import numpy as np\n",
        "import matplotlib.pyplot as plt\n",
        "from scipy import integrate\n",
        "import sympy as sym\n",
        "\n",
        "\n",
        "class Integrator:\n",
        "    def __init__(self, x, f):\n",
        "        self.x = x\n",
        "        self.h = self.x[1] - self.x[0]\n",
        "        self.y = f(self.x)\n",
        "        self.Integral = 0.\n",
        "\n",
        "\n",
        "class Trapezoid(Integrator):\n",
        "    def __init__(self, x, f):\n",
        "        super().__init__(x, f)\n",
        "\n",
        "    def GetIntegral(self):\n",
        "        self.Integral = 0.\n",
        "        self.Integral += 0.5 * (self.y[0] + self.y[-1])\n",
        "        self.Integral += np.sum(self.y[1:-1])\n",
        "        return self.Integral * self.h\n",
        "\n",
        "\n",
        "x = np.linspace(0, 1, 100)\n",
        "f = lambda x: np.exp(-x**2)\n",
        "y = f(x)\n",
        "trapezoid_result = Trapezoid(x, f).GetIntegral()\n",
        "print(\"Resultado Trapezoidal:\", trapezoid_result)\n",
        "\n",
        "\n",
        "def Simpson13(x, f):\n",
        "    h = (x[-1] - x[0]) / (len(x) - 1)\n",
        "    y = f(x)\n",
        "\n",
        "    integral = y[0] + y[-1]\n",
        "    for i in range(1, len(y) - 1):\n",
        "        if i % 2 == 0:\n",
        "            integral += 2 * y[i]\n",
        "        else:\n",
        "            integral += 4 * y[i]\n",
        "\n",
        "    return (h / 3) * integral\n",
        "\n",
        "def Toroid(x, a, R):\n",
        "    return np.sqrt(a**2 - x**2) / (R + x)\n",
        "\n",
        "a = 0.01\n",
        "R = 0.5\n",
        "\n",
        "x = np.linspace(-a, a, 100)\n",
        "f1 = lambda x: Toroid(x, a, R)\n",
        "y = f(x)\n",
        "z_trap = Trapezoid(x, f1).GetIntegral()\n",
        "z_simpson = Simpson13(x, f1)\n",
        "exacta = np.pi * (R - np.sqrt(R**2 - a**2))\n",
        "\n",
        "print(\"Integral por Trapezoidal:\", z_trap)\n",
        "print(\"Integral por Simpson 1/3:\", z_simpson)\n",
        "print(\"Solución exacta:\", exacta)\n",
        "\n",
        "\n",
        "@np.vectorize\n",
        "def FunctionSign(x):\n",
        "    return np.sign(x)\n",
        "\n",
        "x = np.linspace(-10, 10, 100)\n",
        "y = FunctionSign(x)\n",
        "plt.plot(x, y, label='Sign Function')\n",
        "\n",
        "Points, Weights = np.polynomial.legendre.leggauss(15)\n",
        "\n",
        "\n",
        "def GetLegendre(n):\n",
        "    x = sym.Symbol('x', real=True)\n",
        "    P_n = (1 / (2**n * np.math.factorial(n))) * sym.diff((x**2 - 1)**n, x, n)\n",
        "    return sym.lambdify(x, P_n, 'numpy')\n",
        "\n",
        "N = []\n",
        "a = 20\n",
        "for i in range(a + 1):\n",
        "    N.append(GetLegendre(i))\n",
        "\n",
        "def coeficientes(N, f, points, weights):\n",
        "    coeffs = np.zeros(len(N))\n",
        "    for n in range(len(N)):\n",
        "        P_n = N[n](points)\n",
        "        coeffs[n] = (2 * n + 1) / 2 * np.sum(f(points) * P_n * weights)\n",
        "    return coeffs\n",
        "\n",
        "coefficients = coeficientes(N, FunctionSign, Points, Weights)\n",
        "def legendre_approximation(x, coefficients):\n",
        "    approximation = np.zeros_like(x)\n",
        "    for n, c in enumerate(coefficients):\n",
        "        approximation += c * N[n](x)\n",
        "    return approximation\n",
        "approximation = legendre_approximation(x, coefficients)\n",
        "plt.plot(x, approximation)\n",
        "plt.plot(x, y)\n",
        "plt.show()\n"
      ],
      "metadata": {
        "colab": {
          "base_uri": "https://localhost:8080/",
          "height": 569
        },
        "id": "f5eHCDDC39hD",
        "outputId": "65933fd6-77d2-4d33-d4e7-b28a32df7196"
      },
      "execution_count": 15,
      "outputs": [
        {
          "output_type": "stream",
          "name": "stdout",
          "text": [
            "Resultado Trapezoidal: 0.7468178769764184\n",
            "Integral por Trapezoidal: 0.0003138530917658282\n",
            "Integral por Simpson 1/3: 0.00031385717687722626\n",
            "Solución exacta: 0.0003141906875702543\n"
          ]
        },
        {
          "output_type": "stream",
          "name": "stderr",
          "text": [
            "<ipython-input-15-ede629b27165>:77: DeprecationWarning: `np.math` is a deprecated alias for the standard library `math` module (Deprecated Numpy 1.25). Replace usages of `np.math` with `math`\n",
            "  P_n = (1 / (2**n * np.math.factorial(n))) * sym.diff((x**2 - 1)**n, x, n)\n"
          ]
        },
        {
          "output_type": "display_data",
          "data": {
            "text/plain": [
              "<Figure size 640x480 with 1 Axes>"
            ],
            "image/png": "[encoded data removed]"
          },
          "metadata": {}
        }
      ]
    }
  ]
}