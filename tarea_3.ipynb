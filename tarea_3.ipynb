{
  "nbformat": 4,
  "nbformat_minor": 0,
  "metadata": {
    "colab": {
      "provenance": [],
      "authorship_tag": "ABX9TyMUR4Rdu9o7wQcxtudSyoVc",
      "include_colab_link": true
    },
    "kernelspec": {
      "name": "python3",
      "display_name": "Python 3"
    },
    "language_info": {
      "name": "python"
    }
  },
  "cells": [
    {
      "cell_type": "markdown",
      "metadata": {
        "id": "view-in-github",
        "colab_type": "text"
      },
      "source": [
        "<a href=\"https://colab.research.google.com/github/emelyck/Metodos_DynnaRangel_SamuelRomero/blob/main/tarea_3.ipynb\" target=\"_parent\"><img src=\"https://colab.research.google.com/assets/colab-badge.svg\" alt=\"Open In Colab\"/></a>"
      ]
    },
    {
      "cell_type": "code",
      "execution_count": null,
      "metadata": {
        "id": "ABMnVHR51wEr"
      },
      "outputs": [],
      "source": [
        "#punto 7\n",
        "import numpy as np\n",
        "# definimos los parametros con la gráfica dada\n",
        "R = 1\n",
        "n = 100\n",
        "h = 2 * R / n\n",
        "def semiesfera(x, y, R):\n",
        "    formula = R**2 - x**2 - y**2\n",
        "    if formula >= 0:\n",
        "        return np.sqrt(formula)\n",
        "    else:\n",
        "        return 0\n",
        "parametro_x = np.linspace(-R, R, n + 1)\n",
        "parametro_y = np.linspace(-R, R, n + 1)\n",
        "volumen = 0\n",
        "for o in range(n):\n",
        "    for u in range(n):\n",
        "        xo, yu = x[o], y[u]\n",
        "        xo1, yu1 = x[o+1], y[u+1]\n",
        "        f1 = semiesfera(xo, yu, R)\n",
        "        f2 = semiesfera(xo1, yu, R)\n",
        "        f3 = semiesfera(xo, yu1, R)\n",
        "        f4 = semiesfera(xo1, yu1, R)\n",
        "        area = h * h\n",
        "        promedio = (f1 + f2 + f3 + f4) / 4\n",
        "        volumen += promedio * area\n",
        "print(volumen)"
      ]
    }
  ]
}