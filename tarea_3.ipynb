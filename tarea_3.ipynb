{
  "nbformat": 4,
  "nbformat_minor": 0,
  "metadata": {
    "colab": {
      "provenance": [],
      "authorship_tag": "ABX9TyPLOWQ3NCXq+ShFgs/xe3qb",
      "include_colab_link": true
    },
    "kernelspec": {
      "name": "python3",
      "display_name": "Python 3"
    },
    "language_info": {
      "name": "python"
    }
  },
  "cells": [
    {
      "cell_type": "markdown",
      "metadata": {
        "id": "view-in-github",
        "colab_type": "text"
      },
      "source": [
        "<a href=\"https://colab.research.google.com/github/emelyck/Metodos_DynnaRangel_SamuelRomero/blob/main/tarea_3.ipynb\" target=\"_parent\"><img src=\"https://colab.research.google.com/assets/colab-badge.svg\" alt=\"Open In Colab\"/></a>"
      ]
    },
    {
      "cell_type": "code",
      "execution_count": 4,
      "metadata": {
        "colab": {
          "base_uri": "https://localhost:8080/"
        },
        "id": "ABMnVHR51wEr",
        "outputId": "d14268b2-7912-4ae9-c84e-32f794f65527"
      },
      "outputs": [
        {
          "output_type": "stream",
          "name": "stdout",
          "text": [
            "2.0938469983337344\n"
          ]
        }
      ],
      "source": [
        "import numpy as np\n",
        "R = 1\n",
        "n = 100\n",
        "h = 2 * R / n\n",
        "\n",
        "def semiesfera(x, y, R):\n",
        "    formula = R**2 - x**2 - y**2\n",
        "    if formula >= 0:\n",
        "        return np.sqrt(formula)\n",
        "    else:\n",
        "        return 0\n",
        "parametro_x = np.linspace(-R, R, n + 1)\n",
        "parametro_y = np.linspace(-R, R, n + 1)\n",
        "\n",
        "volumen = 0\n",
        "for o in range(n):\n",
        "    for u in range(n):\n",
        "        xo, yu = parametro_x[o], parametro_y[u]\n",
        "        xo1, yu1 = parametro_x[o+1], parametro_y[u+1]\n",
        "        f1 = semiesfera(xo, yu, R)\n",
        "        f2 = semiesfera(xo1, yu, R)\n",
        "        f3 = semiesfera(xo, yu1, R)\n",
        "        f4 = semiesfera(xo1, yu1, R)\n",
        "\n",
        "        area = h * h\n",
        "        promedio = (f1 + f2 + f3 + f4) / 4\n",
        "        volumen += promedio * area\n",
        "\n",
        "print(volumen)\n",
        "\n",
        "\n"
      ]
    },
    {
      "cell_type": "code",
      "source": [
        "#punto 15\n",
        "import numpy as np\n",
        "\n",
        "# Función para calcular los polinomios de Legendre\n",
        "def lege(n, x):\n",
        "    if n == 0:\n",
        "        return np.ones_like(x)\n",
        "    elif n == 1:\n",
        "        return x\n",
        "    else:\n",
        "        P = np.ones_like(x)\n",
        "        P_1 = x\n",
        "        for o in range(2, n + 1):\n",
        "            Ps = ((2 * o - 1) * x * P_1 - (o - 1) * P) / o\n",
        "            P = P_1\n",
        "            P_1 = Ps\n",
        "        return Ps\n",
        "def derivada_legendre(n, x):\n",
        "    Ps = lege(n, x)\n",
        "    Ps_1_menos = lege(n - 1, x)\n",
        "    return n * (x * Ps - Ps_1_menos) / (x**2 - 1)\n",
        "\n",
        "def ceros(n, tol=1e-14):\n",
        "    x = np.cos(np.pi * (np.arange(1, n + 1) - 0.25) / (n + 0.5))\n",
        "    for _ in range(100):\n",
        "        Ps = lege(n, x)\n",
        "        Ps_p = derivada_legendre(n, x)\n",
        "        diferencia_x = -Ps / Ps_p\n",
        "        x += diferencia_x\n",
        "        if np.max(np.abs(diferencia_x)) < tol:\n",
        "            break\n",
        "    return x\n",
        "\n",
        "def pesos(n, x):\n",
        "    Ps_p = derivada_legendre(n, x)\n",
        "    return 2 / ((1 - x**2) * Ps_p**2)\n",
        "n = 20\n",
        "xk = ceros(n)\n",
        "wk = pesos(n, xk)\n",
        "\n",
        "print(\"Ceros:\")\n",
        "print(xk)\n",
        "print(\"\\nPesos:\")\n",
        "print(wk)\n"
      ],
      "metadata": {
        "colab": {
          "base_uri": "https://localhost:8080/"
        },
        "id": "AyrG53qFHfmL",
        "outputId": "28b291d2-c72b-4c5e-be47-120c7779f099"
      },
      "execution_count": 6,
      "outputs": [
        {
          "output_type": "stream",
          "name": "stdout",
          "text": [
            "Ceros:\n",
            "[ 0.9931286   0.96397193  0.91223443  0.83911697  0.74633191  0.63605368\n",
            "  0.510867    0.37370609  0.22778585  0.07652652 -0.07652652 -0.22778585\n",
            " -0.37370609 -0.510867   -0.63605368 -0.74633191 -0.83911697 -0.91223443\n",
            " -0.96397193 -0.9931286 ]\n",
            "\n",
            "Pesos:\n",
            "[0.01761401 0.04060143 0.06267205 0.08327674 0.10193012 0.11819453\n",
            " 0.13168864 0.14209611 0.14917299 0.15275339 0.15275339 0.14917299\n",
            " 0.14209611 0.13168864 0.11819453 0.10193012 0.08327674 0.06267205\n",
            " 0.04060143 0.01761401]\n"
          ]
        }
      ]
    }
  ]
}