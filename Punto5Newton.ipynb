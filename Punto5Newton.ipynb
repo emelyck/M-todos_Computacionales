{
  "nbformat": 4,
  "nbformat_minor": 0,
  "metadata": {
    "colab": {
      "provenance": [],
      "authorship_tag": "ABX9TyONo01Dt9+XS6au28juiIIM",
      "include_colab_link": true
    },
    "kernelspec": {
      "name": "python3",
      "display_name": "Python 3"
    },
    "language_info": {
      "name": "python"
    }
  },
  "cells": [
    {
      "cell_type": "markdown",
      "metadata": {
        "id": "view-in-github",
        "colab_type": "text"
      },
      "source": [
        "<a href=\"https://colab.research.google.com/github/emelyck/Metodos_DynnaRangel_SamuelRomero/blob/main/Punto5Newton.ipynb\" target=\"_parent\"><img src=\"https://colab.research.google.com/assets/colab-badge.svg\" alt=\"Open In Colab\"/></a>"
      ]
    },
    {
      "cell_type": "code",
      "execution_count": 7,
      "metadata": {
        "id": "6b6EeiypJ4KD"
      },
      "outputs": [],
      "source": [
        "import numpy as np\n",
        "import sympy as sym\n",
        "import matplotlib.pyplot as plt"
      ]
    },
    {
      "cell_type": "code",
      "source": [
        "X = np.array([1,2,3,4,5])\n",
        "x = sym.Symbol('x',real=True)\n",
        "x"
      ],
      "metadata": {
        "id": "gHaid4xrKe6H",
        "colab": {
          "base_uri": "https://localhost:8080/",
          "height": 38
        },
        "outputId": "5243953c-7a6f-489e-b54c-1ad139617367"
      },
      "execution_count": 52,
      "outputs": [
        {
          "output_type": "execute_result",
          "data": {
            "text/plain": [
              "x"
            ],
            "text/latex": "$\\displaystyle x$"
          },
          "metadata": {},
          "execution_count": 52
        }
      ]
    },
    {
      "cell_type": "code",
      "source": [
        "def factorial(n):\n",
        "\n",
        "  if n==0 or n == 1:\n",
        "    return 1\n",
        "\n",
        "  else:\n",
        "\n",
        "    f = 1\n",
        "    it = 1 # Iterador\n",
        "    while it <= n:\n",
        "      f *= it\n",
        "      it += 1\n",
        "\n",
        "    return f"
      ],
      "metadata": {
        "id": "Sfdd5kUPMtgc"
      },
      "execution_count": 53,
      "outputs": []
    },
    {
      "cell_type": "code",
      "source": [
        "def derivadaN(f,x,N,h=1e-5):\n",
        "  for i in range(N+1):\n",
        "    f = sym.diff(f,x)\n",
        "  return f\n",
        "\n",
        "def derivada(f,xn,h=1e-5):\n",
        "  return (f(xn+h)-f(xn-h))/(2*h)"
      ],
      "metadata": {
        "id": "F0Db9eoiPl3_"
      },
      "execution_count": 54,
      "outputs": []
    },
    {
      "cell_type": "code",
      "source": [
        "def PolyLaguerre(x,X,i):\n",
        "  Polyi = (sym.exp(x)/factorial(X[i]))*(derivadaN((x**X[i])*sym.exp(-x),x,i))\n",
        "  return Polyi\n"
      ],
      "metadata": {
        "id": "pgt-J9xzQIZ3"
      },
      "execution_count": 55,
      "outputs": []
    },
    {
      "cell_type": "code",
      "source": [
        "Poly2 = PolyLaguerre(x,X,1)\n",
        "Poly2.expand()\n",
        "polinomios = []\n",
        "for i in range(len(X)):\n",
        "  polinomios.append(PolyLaguerre(x,X,i))\n",
        "Poly2.expand()\n"
      ],
      "metadata": {
        "id": "340NikIUL5uc",
        "colab": {
          "base_uri": "https://localhost:8080/",
          "height": 54
        },
        "outputId": "b3c5a121-31ff-45b8-e20d-901258a6f8b1"
      },
      "execution_count": 96,
      "outputs": [
        {
          "output_type": "execute_result",
          "data": {
            "text/plain": [
              "x**2/2 - 2*x + 1"
            ],
            "text/latex": "$\\displaystyle \\frac{x^{2}}{2} - 2 x + 1$"
          },
          "metadata": {},
          "execution_count": 96
        }
      ]
    },
    {
      "cell_type": "code",
      "source": [
        "def GetNewtonMethod(f,df,xn,itmax=1000,precision=1e-16):\n",
        "\n",
        "  error = 1\n",
        "  it = 0\n",
        "\n",
        "  while error > precision and it < itmax:\n",
        "    try:\n",
        "      xn1 = xn - f(xn)/df(f,xn)\n",
        "      error = np.abs(f(xn)/df(f,xn))\n",
        "    except ZeroDivisionError:\n",
        "      print('Division by zero error')\n",
        "    xn = xn1\n",
        "    it += 1\n",
        "\n",
        "  if it == itmax:\n",
        "    return False\n",
        "  else:\n",
        "    return xn"
      ],
      "metadata": {
        "id": "x1KWBL5jUIo3"
      },
      "execution_count": 121,
      "outputs": []
    },
    {
      "cell_type": "code",
      "source": [
        "xn = np.linspace(-50,50,1000)\n",
        "funciones = []\n",
        "for polinomio in polinomios:\n",
        "  funciones.append(sym.lambdify(x,polinomio.expand()))\n",
        "funciones[0]"
      ],
      "metadata": {
        "colab": {
          "base_uri": "https://localhost:8080/"
        },
        "id": "Gnf1OTulUnsF",
        "outputId": "95517103-814b-47c9-a093-02ea772b5875"
      },
      "execution_count": 134,
      "outputs": [
        {
          "output_type": "execute_result",
          "data": {
            "text/plain": [
              "<function _lambdifygenerated(x)>"
            ]
          },
          "metadata": {},
          "execution_count": 134
        }
      ]
    },
    {
      "cell_type": "code",
      "source": [
        "def GetAllRoots(x,f, tolerancia = 16):\n",
        "\n",
        "  Roots = np.array([])\n",
        "\n",
        "  for i in x:\n",
        "\n",
        "    root = GetNewtonMethod(f,derivada,i)\n",
        "\n",
        "    if root != False:\n",
        "\n",
        "      croot = np.round( root, tolerancia)\n",
        "\n",
        "      if croot not in Roots:\n",
        "        Roots = np.append(Roots,croot)\n",
        "\n",
        "  Roots.sort()\n",
        "\n",
        "  return Roots"
      ],
      "metadata": {
        "id": "PSUC_cXqZsk7"
      },
      "execution_count": 112,
      "outputs": []
    },
    {
      "cell_type": "code",
      "source": [],
      "metadata": {
        "id": "MX4_U3sIenRR"
      },
      "execution_count": 122,
      "outputs": []
    },
    {
      "cell_type": "code",
      "source": [
        "Raiz1 = GetAllRoots(xn,funciones[0])\n",
        "Raiz1"
      ],
      "metadata": {
        "colab": {
          "base_uri": "https://localhost:8080/"
        },
        "id": "My83K-2maYgI",
        "outputId": "88da4346-2941-41a3-e300-e558476c3f07"
      },
      "execution_count": 135,
      "outputs": [
        {
          "output_type": "execute_result",
          "data": {
            "text/plain": [
              "array([1.])"
            ]
          },
          "metadata": {},
          "execution_count": 135
        }
      ]
    },
    {
      "cell_type": "code",
      "source": [
        "Raiz2 = GetAllRoots(xn,funciones[1])\n",
        "Raiz2"
      ],
      "metadata": {
        "colab": {
          "base_uri": "https://localhost:8080/"
        },
        "id": "4KIGLaeqcJ1J",
        "outputId": "ed8483b3-2ba9-4f6c-cf5d-14f62d4a1376"
      },
      "execution_count": 136,
      "outputs": [
        {
          "output_type": "execute_result",
          "data": {
            "text/plain": [
              "array([0.58578644, 3.41421356])"
            ]
          },
          "metadata": {},
          "execution_count": 136
        }
      ]
    },
    {
      "cell_type": "code",
      "source": [
        "Raiz3 = GetAllRoots(xn,funciones[2])\n",
        "Raiz3"
      ],
      "metadata": {
        "colab": {
          "base_uri": "https://localhost:8080/"
        },
        "id": "qs0CpxM2cvTI",
        "outputId": "900dd89e-5c33-4273-844d-37d4444d6eac"
      },
      "execution_count": 137,
      "outputs": [
        {
          "output_type": "execute_result",
          "data": {
            "text/plain": [
              "array([0.41577456, 0.41577456, 2.29428036])"
            ]
          },
          "metadata": {},
          "execution_count": 137
        }
      ]
    },
    {
      "cell_type": "code",
      "source": [
        "Raiz4 = GetAllRoots(xn,funciones[3])\n",
        "Raiz4"
      ],
      "metadata": {
        "colab": {
          "base_uri": "https://localhost:8080/"
        },
        "id": "85oQfHKZfpAi",
        "outputId": "0a6950bd-81f7-4227-ae33-e2b147b6366d"
      },
      "execution_count": 132,
      "outputs": [
        {
          "output_type": "execute_result",
          "data": {
            "text/plain": [
              "array([0.32254769, 0.32254769, 1.7457611 , 4.5366203 ])"
            ]
          },
          "metadata": {},
          "execution_count": 132
        }
      ]
    },
    {
      "cell_type": "code",
      "source": [
        "Raiz5 = GetAllRoots(xn,funciones[4])\n",
        "Raiz5"
      ],
      "metadata": {
        "colab": {
          "base_uri": "https://localhost:8080/"
        },
        "id": "ZMYwShJ-fspx",
        "outputId": "b8694d39-5e69-49a2-8219-24c86f334114"
      },
      "execution_count": 133,
      "outputs": [
        {
          "output_type": "execute_result",
          "data": {
            "text/plain": [
              "array([0.26356032, 0.26356032, 0.26356032, 3.59642577, 3.59642577,\n",
              "       3.59642577])"
            ]
          },
          "metadata": {},
          "execution_count": 133
        }
      ]
    }
  ]
}