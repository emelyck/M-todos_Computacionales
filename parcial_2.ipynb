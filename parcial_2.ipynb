{
  "nbformat": 4,
  "nbformat_minor": 0,
  "metadata": {
    "colab": {
      "provenance": [],
      "authorship_tag": "ABX9TyN8ygzPkXWYqfvxx0m/y4Da",
      "include_colab_link": true
    },
    "kernelspec": {
      "name": "python3",
      "display_name": "Python 3"
    },
    "language_info": {
      "name": "python"
    }
  },
  "cells": [
    {
      "cell_type": "markdown",
      "metadata": {
        "id": "view-in-github",
        "colab_type": "text"
      },
      "source": [
        "<a href=\"https://colab.research.google.com/github/emelyck/Metodos_DynnaRangel_SamuelRomero/blob/main/parcial_2.ipynb\" target=\"_parent\"><img src=\"https://colab.research.google.com/assets/colab-badge.svg\" alt=\"Open In Colab\"/></a>"
      ]
    },
    {
      "cell_type": "code",
      "execution_count": 3,
      "metadata": {
        "colab": {
          "base_uri": "https://localhost:8080/",
          "height": 513
        },
        "id": "7ra9ZBymfMLU",
        "outputId": "10f3ea6f-c7a7-4634-e83b-a4b02230829b"
      },
      "outputs": [
        {
          "output_type": "stream",
          "name": "stdout",
          "text": [
            "campo gravitacional cuando (0, 0, 0.2): -15025.81903 m/s²\n"
          ]
        },
        {
          "output_type": "stream",
          "name": "stderr",
          "text": [
            "<ipython-input-3-9ae931a05654>:19: RuntimeWarning: invalid value encountered in scalar power\n",
            "  return r * z / ((x**2 + y**2 + z**2 - 2 * x * r * np.cos(phi) - 2 * y * r * np.sin(phi))**(3/2))\n"
          ]
        },
        {
          "output_type": "display_data",
          "data": {
            "text/plain": [
              "<Figure size 640x480 with 1 Axes>"
            ],
            "image/png": "[encoded data removed]"
          },
          "metadata": {}
        }
      ],
      "source": [
        "#punto 24\n",
        "import numpy as np\n",
        "from scipy.special import roots_legendre\n",
        "import matplotlib.pyplot as plt\n",
        "\n",
        "k = 1.9429303960\n",
        "z = 0.2\n",
        "R = 1\n",
        "\n",
        "#a\n",
        "N = 50\n",
        "puntos, pesos = roots_legendre(N)\n",
        "phi_p = np.linspace(0, 2 * np.pi, N)\n",
        "valores = 0.5 * (puntos + 1) * R\n",
        "escala = 0.5 * puntos * R\n",
        "\n",
        "# b\n",
        "def integrand(r, phi, x=0, y=0, z=z):\n",
        "    return r * z / ((x**2 + y**2 + z**2 - 2 * x * r * np.cos(phi) - 2 * y * r * np.sin(phi))**(3/2))\n",
        "\n",
        "# c\n",
        "def campo(x, y, z):\n",
        "    integral = 0\n",
        "    for i, r in enumerate(valores):\n",
        "        for j, phi in enumerate(phi_p):\n",
        "            integral += escala[i] * integrand(r, phi, x, y, z)\n",
        "    return -k * integral\n",
        "\n",
        "# d\n",
        "g_z = campo(0, 0, 0.2)\n",
        "print(f\"campo gravitacional cuando (0, 0, 0.2): {g_z:.5f} m/s²\")\n",
        "\n",
        "# e\n",
        "radio_fijo = [0.0, 0.125, 0.25, 0.38, 0.5]\n",
        "theta_v = np.linspace(0, 2 * np.pi, 10)\n",
        "\n",
        "resultado = {}\n",
        "for R in radio_fijo :\n",
        "    resultado[R] = []\n",
        "    for t in theta_v:\n",
        "        x = R * np.cos(t)\n",
        "        y = R * np.sin(t)\n",
        "        l_t = campo(x, y, z)\n",
        "        resultado[R].append(l_t)\n",
        "\n",
        "plt.figure()\n",
        "for R in radio_fijo:\n",
        "    plt.plot(theta_v, resultado[R], label=f'R = {R}')\n",
        "plt.grid(True)\n",
        "plt.xlabel(\"Ángulo $\\phi$ [Rad]\")\n",
        "plt.ylabel(\"g [m/s²]\")\n",
        "plt.legend()\n",
        "plt.show()\n",
        "\n",
        "\n",
        "\n",
        "#punto f\n",
        "\"Simetría gravitacional en el disco plano:\"\n",
        "\"En un disco plano, como se sabe teoricamente, la gravedad empuja hacia el centro de manera uniforme en todas direcciones.\"\n",
        "\"Esto porque la masa del disco está distribuida de manera simétrica alrededor del centro, por lo que la gravedad no depende de la dirección.\"\n",
        "\n",
        "#punto g\n",
        "\"la gravedad no es constante en toda la superficie de un disco.\"\n",
        "\"Esta es más fuerte cuando nos acercamos al centro, lo cual difiere con la tierra porque la gravedad es más o menos constante en toda la superficie.\"\n",
        "\n",
        "#punto h\n",
        "\"obviando el hecho de que ya se ha observado la forma de la tierra desde afuera con fotografias realizadas\"\n",
        "\"Como vimos anteriormente, la gravedad siempre apunta hacia el centro de la esfera, no hacia un plano.\"\n",
        "\"Además, la gravedad en la Tierra es casi constante, lo que no ocurre en un modelo de disco plano.\"\n",
        "\"Por lo tanto, se puede descartar la idea de una Tierra plana.\""
      ]
    },
    {
      "cell_type": "code",
      "source": [
        "import numpy as np\n",
        "import matplotlib.pyplot as plt\n",
        "from IPython.display import clear_output\n",
        "import time\n",
        "import copy\n",
        "from tqdm import tqdm\n",
        "#Punto 26\n",
        "n1 = 30\n",
        "I = 4*(1-(2/n1)-(1/n1**2))\n",
        "I\n",
        "\n",
        "Exacto = 4\n",
        "Error = Exacto - I\n",
        "Error\n",
        "def Riemann(n):\n",
        "    I = 4*(1-(2/n)-(1/n**2))\n",
        "    Err = abs(4-I)\n",
        "    return Err\n",
        "n = np.linspace(30,400,100, endpoint=False)\n",
        "plt.plot(n,Riemann(n))\n",
        "# es una mala aproximación si se compara con la cuadratura de Gauss, ya que el orden de error de esta es de e-16"
      ],
      "metadata": {
        "colab": {
          "base_uri": "https://localhost:8080/",
          "height": 447
        },
        "id": "-01QFNhLf2xy",
        "outputId": "70ef9cd1-52fc-4be1-dd8f-e6700e542463"
      },
      "execution_count": 4,
      "outputs": [
        {
          "output_type": "execute_result",
          "data": {
            "text/plain": [
              "[<matplotlib.lines.Line2D at 0x7bf64c10beb0>]"
            ]
          },
          "metadata": {},
          "execution_count": 4
        },
        {
          "output_type": "display_data",
          "data": {
            "text/plain": [
              "<Figure size 640x480 with 1 Axes>"
            ],
            "image/png": "[encoded data removed]"
          },
          "metadata": {}
        }
      ]
    },
    {
      "cell_type": "code",
      "source": [
        "#21\n",
        "\n",
        "Ca = 1000000\n",
        "C = np.array([8.51,10.68,12.24,13.66,15.37,17.15,19.66,24.69])\n",
        "\n",
        "def FuncionRetorno(Wp,Vp):\n",
        "  R = np.min(1000000*(Wp*Vp - 1))\n",
        "  return R\n",
        "\n",
        "#FuncionRetorno(1000000,np.array([0.5,0.5]),np.array([8.51,10.68]))\n"
      ],
      "metadata": {
        "id": "LyUOqblhgN3a"
      },
      "execution_count": null,
      "outputs": []
    },
    {
      "cell_type": "code",
      "source": [
        "x = np.array([1,2,3,4,5])\n",
        "y = np.array([1,2,3,4,5])\n",
        "x*y"
      ],
      "metadata": {
        "colab": {
          "base_uri": "https://localhost:8080/"
        },
        "id": "PFEu4FXwgQik",
        "outputId": "9b3ab093-98dd-4e3d-832c-ade65f4f3e1c"
      },
      "execution_count": 5,
      "outputs": [
        {
          "output_type": "execute_result",
          "data": {
            "text/plain": [
              "array([ 1,  4,  9, 16, 25])"
            ]
          },
          "metadata": {},
          "execution_count": 5
        }
      ]
    },
    {
      "cell_type": "code",
      "source": [
        "class Robot:\n",
        "\n",
        "    def __init__(self,f,Id=0,rate=0.1):\n",
        "\n",
        "        self.Id = Id\n",
        "        # Mutation Rate\n",
        "        self.rate = rate\n",
        "        self.Fitness = np.inf\n",
        "\n",
        "        # Funcion a minimizar\n",
        "        self.f = FuncionRetorno\n",
        "\n",
        "        # Espacio de parámetros\n",
        "\n",
        "        self.Cuotas = np.array([8.51,10.68,12.24,13.66,15.37,17.15,19.66,24.69])\n",
        "        self.r = np.random.uniform(0.,1., size=self.Cuotas.shape[0])\n",
        "        self.r = self.r / np.sum(self.r)  # Normalizaci ́on inicia\n",
        "\n",
        "    def Mutate(self):\n",
        "\n",
        "        self.r += np.random.normal(loc=0., scale=self.rate, size=self.Cuotas.shape[0])\n",
        "        self.r = np.abs(self.r)  # Asegura que no haya valores negativosself.r = self.r / np.sum(self.r)  # Normaliza para que la suma sea\n",
        "    def GetR(self):\n",
        "        return self.r\n",
        "\n",
        "    def SetFitness(self):\n",
        "        self.Fitness = self.f(self.r,self.Cuotas)\n",
        "\n",
        "\n",
        "    def GetFitness(self):\n",
        "        return self.Fitness\n",
        "\n",
        "    def __repr__(self):\n",
        "      return f\"Robot {self.r}\"\n",
        "\n",
        "r = Robot(FuncionRetorno)\n",
        "r.GetR()"
      ],
      "metadata": {
        "colab": {
          "base_uri": "https://localhost:8080/",
          "height": 193
        },
        "id": "W4xH2TB3gRxw",
        "outputId": "09623f93-869b-4415-d694-91eaf0758999"
      },
      "execution_count": 10,
      "outputs": [
        {
          "output_type": "error",
          "ename": "NameError",
          "evalue": "name 'FuncionRetorno' is not defined",
          "traceback": [
            "\u001b[0;31m---------------------------------------------------------------------------\u001b[0m",
            "\u001b[0;31mNameError\u001b[0m                                 Traceback (most recent call last)",
            "\u001b[0;32m<ipython-input-10-d935de0e102c>\u001b[0m in \u001b[0;36m<cell line: 36>\u001b[0;34m()\u001b[0m\n\u001b[1;32m     34\u001b[0m       \u001b[0;32mreturn\u001b[0m \u001b[0;34mf\"Robot {self.r}\"\u001b[0m\u001b[0;34m\u001b[0m\u001b[0;34m\u001b[0m\u001b[0m\n\u001b[1;32m     35\u001b[0m \u001b[0;34m\u001b[0m\u001b[0m\n\u001b[0;32m---> 36\u001b[0;31m \u001b[0mr\u001b[0m \u001b[0;34m=\u001b[0m \u001b[0mRobot\u001b[0m\u001b[0;34m(\u001b[0m\u001b[0mFuncionRetorno\u001b[0m\u001b[0;34m)\u001b[0m\u001b[0;34m\u001b[0m\u001b[0;34m\u001b[0m\u001b[0m\n\u001b[0m\u001b[1;32m     37\u001b[0m \u001b[0mr\u001b[0m\u001b[0;34m.\u001b[0m\u001b[0mGetR\u001b[0m\u001b[0;34m(\u001b[0m\u001b[0;34m)\u001b[0m\u001b[0;34m\u001b[0m\u001b[0;34m\u001b[0m\u001b[0m\n",
            "\u001b[0;31mNameError\u001b[0m: name 'FuncionRetorno' is not defined"
          ]
        }
      ]
    },
    {
      "cell_type": "code",
      "source": [
        "def GetRobots(N):\n",
        "\n",
        "    Robots = []\n",
        "\n",
        "    for i in range(N):\n",
        "        r = Robot(f=f,Id=i)\n",
        "        Robots.append(r)\n",
        "\n",
        "    return Robots"
      ],
      "metadata": {
        "id": "E7g_yoxgggnh"
      },
      "execution_count": null,
      "outputs": []
    },
    {
      "cell_type": "code",
      "source": [
        "GetRobots(10)"
      ],
      "metadata": {
        "colab": {
          "base_uri": "https://localhost:8080/",
          "height": 141
        },
        "id": "xg8Rfn9eg_6E",
        "outputId": "fba41c10-60d9-4aeb-f632-81b6c6c985ff"
      },
      "execution_count": 11,
      "outputs": [
        {
          "output_type": "error",
          "ename": "NameError",
          "evalue": "name 'GetRobots' is not defined",
          "traceback": [
            "\u001b[0;31m---------------------------------------------------------------------------\u001b[0m",
            "\u001b[0;31mNameError\u001b[0m                                 Traceback (most recent call last)",
            "\u001b[0;32m<ipython-input-11-f46b9d9bcbe3>\u001b[0m in \u001b[0;36m<cell line: 1>\u001b[0;34m()\u001b[0m\n\u001b[0;32m----> 1\u001b[0;31m \u001b[0mGetRobots\u001b[0m\u001b[0;34m(\u001b[0m\u001b[0;36m10\u001b[0m\u001b[0;34m)\u001b[0m\u001b[0;34m\u001b[0m\u001b[0;34m\u001b[0m\u001b[0m\n\u001b[0m",
            "\u001b[0;31mNameError\u001b[0m: name 'GetRobots' is not defined"
          ]
        }
      ]
    },
    {
      "cell_type": "code",
      "source": [
        "def Plotter(e):\n",
        "\n",
        "    fig = plt.figure(figsize=(10,5))\n",
        "    ax = fig.add_subplot(121)\n",
        "    ax1 = fig.add_subplot(122)\n",
        "    ax.set_title('Epoch={:.0f}'.format(e))\n",
        "\n",
        "    return ax,ax1"
      ],
      "metadata": {
        "id": "ZmOFzgwUhEHw"
      },
      "execution_count": null,
      "outputs": []
    },
    {
      "cell_type": "code",
      "source": [
        "def Evolve(Robots, epochs=5000):\n",
        "    N = int(0.5*len(Robots))\n",
        "\n",
        "    # Mirar la aptitud más pequeña en cada epoca\n",
        "    Fitness = np.array([])\n",
        "\n",
        "    for e in range(int(epochs)):\n",
        "\n",
        "        # actualizamos informaicíón\n",
        "        for i,p in enumerate(Robots):\n",
        "            p.Mutate()\n",
        "            p.SetFitness()\n",
        "\n",
        "        #clear_output(wait=True)\n",
        "\n",
        "\n",
        "        # Ordenamos los robots por fitness\n",
        "        scores = [ (p.Fitness, p) for p in Robots ]\n",
        "        scores = sorted(scores,key=lambda x:x[0],reverse=True)\n",
        "\n",
        "        # Tomamos lo incides hasta el % porciento\n",
        "        Temp = [r[1] for i,r in enumerate(scores) if i < N ]\n",
        "\n",
        "        for i in range(int(0.3*len(Robots))):\n",
        "            Robots[i] = Robot(FuncionRetorno,Id=i)\n",
        "        for i,r in enumerate(Robots):\n",
        "          j = i%N\n",
        "          Robots[i] = copy.deepcopy(Temp[j])\n",
        "\n",
        "\n",
        "\n",
        "    return Robots"
      ],
      "metadata": {
        "id": "BRLV5XmvhuBu"
      },
      "execution_count": 14,
      "outputs": []
    },
    {
      "cell_type": "code",
      "source": [
        "Evolve(GetRobots(500))"
      ],
      "metadata": {
        "colab": {
          "base_uri": "https://localhost:8080/",
          "height": 141
        },
        "id": "yLlEwE8tipHZ",
        "outputId": "ba1d1bd5-6290-47f7-bd5f-1babbb355689"
      },
      "execution_count": 12,
      "outputs": [
        {
          "output_type": "error",
          "ename": "NameError",
          "evalue": "name 'GetRobots' is not defined",
          "traceback": [
            "\u001b[0;31m---------------------------------------------------------------------------\u001b[0m",
            "\u001b[0;31mNameError\u001b[0m                                 Traceback (most recent call last)",
            "\u001b[0;32m<ipython-input-12-083057c145fa>\u001b[0m in \u001b[0;36m<cell line: 1>\u001b[0;34m()\u001b[0m\n\u001b[0;32m----> 1\u001b[0;31m \u001b[0mEvolve\u001b[0m\u001b[0;34m(\u001b[0m\u001b[0mGetRobots\u001b[0m\u001b[0;34m(\u001b[0m\u001b[0;36m500\u001b[0m\u001b[0;34m)\u001b[0m\u001b[0;34m)\u001b[0m\u001b[0;34m\u001b[0m\u001b[0;34m\u001b[0m\u001b[0m\n\u001b[0m",
            "\u001b[0;31mNameError\u001b[0m: name 'GetRobots' is not defined"
          ]
        }
      ]
    },
    {
      "cell_type": "code",
      "source": [
        "import numpy as np\n",
        "\n",
        "#punto 27\n",
        "def funcion_definida(x):\n",
        "    p_0, p_1, p_2, p_3, k_0, k_1, k_2, k_3 = x\n",
        "\n",
        "    cuadratura = [\n",
        "        p_0 + p_1 + p_2 + p_3 - 2, p_0*k_0 + p_1*k_1 + p_2*k_2 + p_3*k_3, p_0*k_0**2 + p_1*k_1**2 + p_2*k_2**2 + p_3*k_3**2 - 2/3, p_0*k_0**3 + p_1*k_1**3 + p_2*k_2**3 + p_3*k_3**3, p_0*k_0**4 + p_1*k_1**4 + p_2*k_2**4 + p_3*k_3**4 - 2/5, p_0*k_0**5 + p_1*k_1**5 + p_2*k_2**5 + p_3*k_3**5, p_0*k_0**6 + p_1*k_1**6 + p_2*k_2**6 + p_3*k_3**6 - 2/7, p_0*k_0**7 + p_1*k_1**7 + p_2*k_2**7 + p_3*k_3**7\n",
        "]\n",
        "    return np.array(cuadratura)\n",
        "vec_alea = np.random.uniform(-1, 1, size=8)\n",
        "def funcion_jacobiano(funcion_definida, x, h=1e-8):\n",
        "    n = len(x)\n",
        "    J = np.zeros((n, n))\n",
        "    fx = funcion_definida(x)\n",
        "    for i in range(n):\n",
        "        xh = np.copy(x)\n",
        "        xh[i] += h\n",
        "        J[:, i] = (funcion_definida(xh) - fx) / h\n",
        "    return J\n",
        "def descenso_grad(funcion_definida, vec_alea, gamma=0.01, tol=1e-5, max_iter=10000, regularization=1e-8):\n",
        "    x = vec_alea\n",
        "    for i in range(max_iter):\n",
        "        l = funcion_jacobiano(funcion_definida, x)\n",
        "        fx = funcion_definida(x)\n",
        "        J = l + np.eye(l.shape[0]) * regularization\n",
        "        delta = np.linalg.pinv(J) @ (-fx)\n",
        "        x = x + gamma * delta\n",
        "        if np.linalg.norm(fx) < tol:\n",
        "            print(f'Convergió después de {i+1} iteraciones.')\n",
        "            return x\n",
        "    print('-')\n",
        "    return x\n",
        "desarrollo = descenso_grad(funcion_definida, vec_alea)\n",
        "print('respuesta:', desarrollo)\n",
        "p_0, p_1, p_2, p_3, k_0, k_1, k_2, k_3 = desarrollo\n",
        "def cos_inte(desarrollo):\n",
        "    p_0, p_1, p_2, p_3, k_0, k_1, k_2, k_3 = desarrollo\n",
        "    return p_0*np.cos(k_0) + p_1*np.cos(k_1) + p_2*np.cos(k_2) + p_3*np.cos(k_3)\n",
        "\n",
        "resultado_integral = cos_inte(desarrollo)\n",
        "print(f'respuesta de la integral propuesta: {resultado_integral:.8f}')\n",
        "\n"
      ],
      "metadata": {
        "colab": {
          "base_uri": "https://localhost:8080/"
        },
        "id": "mzL1bmMijXzi",
        "outputId": "77e72771-5af1-43b1-b470-0d101fa6b7e4"
      },
      "execution_count": 21,
      "outputs": [
        {
          "output_type": "stream",
          "name": "stdout",
          "text": [
            "-\n",
            "respuesta: [ 7.37016643e-15  5.14341861e-01  9.66508709e-01  5.19149374e-01\n",
            "  4.09487981e+01 -8.00120155e-01 -2.87056929e-03  7.97979707e-01]\n",
            "respuesta de la integral propuesta: 1.68725232\n"
          ]
        }
      ]
    }
  ]
}